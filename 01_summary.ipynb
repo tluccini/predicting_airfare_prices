{
 "cells": [
  {
   "cell_type": "markdown",
   "metadata": {},
   "source": [
    "<img src='https://i.pinimg.com/564x/38/b1/6f/38b16f84e521773ba25c7e466c76e27d.jpg'>"
   ]
  },
  {
   "cell_type": "markdown",
   "metadata": {},
   "source": [
    "# Forecasting Airfare Prices\n",
    "\n",
    "**01** [Problem Statement](#01-Problem-Statement)\n",
    "\n",
    "**02** [Data Collection and Cleaning](#02-Data-Collection-and-Cleaning)  \n",
    "\n",
    "**03** [EDA & Pre-Processing / Feature Engineering](#03-EDA-and-Pre-Processing-/-Feature-Engineering)  \n",
    "\n",
    "**04** [Modeling / Feature Selection](#04-Modeling-/-Feature-Selection)\n",
    "\n",
    "**05** [Evaluation and Conceptual Understanding](#05-Evaluation-and-Conceptual-Understanding)\n",
    "\n",
    "**06** [Conclusion and Recommendations](#06-Conclusion-and-Recommendations)"
   ]
  },
  {
   "cell_type": "markdown",
   "metadata": {},
   "source": [
    "<div align=\"center\"> DATA DICTIONARY </div>\n",
    "\n",
    "| variable| Description |\n",
    "| :--- | :---- |\n",
    "| **airfare** | The average flight cost for one individual |\n",
    "| **cost_per_mile** | The average flight cost x total passengers / flight distance |\n",
    "| **dest_lat** | The flight destination latitude |\n",
    "| **dest_long** | The flight destination longitude |\n",
    "| **dist_miles** | The distance of the flight |\n",
    "| **flight_demand** | The total passengers / total seats available |\n",
    "| **flight_revenue** | The average flight cost x total passengers |\n",
    "| **fuel_usd_pergallon** | The price of jet fuel |\n",
    "| **num_of_flights** | The total number of flights |\n",
    "| **origin_lat** | The flight origin latitude |\n",
    "| **origin_long** | The flight origin longitude |\n",
    "| **passengers** | The total number of passengers |\n",
    "| **passengers_per_flight** | The total number of passengers / total number of flights |\n",
    "| **pop_dest** | The population of the destination city |\n",
    "| **pop_origin** | The population of the origin city |\n",
    "| **route** | The itinerary (origin city to destination city |\n",
    "| **seat_capacity** | The total number of seats |\n",
    "| **total_flight_cost** | The number of flights x flight distance x price of jet fuel |\n",
    "| **total_flight_miles** | The number of flights x flight distance |\n",
    "| **year-month** | The time series data to be set as the index |"
   ]
  },
  {
   "cell_type": "markdown",
   "metadata": {},
   "source": [
    "# **01** Problem Statement"
   ]
  },
  {
   "cell_type": "markdown",
   "metadata": {},
   "source": [
    "### Problem & Goal\n",
    "###### **PREDICTING FUTURE PLANE PRICES BY MARKET/ROUTE & MONTH (USA)**\n",
    "\n",
    "The price airfare is a very interesting topic.  There are countless times in my life I decided to book travel only to look to see the cost of the flight was beyond my budget.  Predicting the cost of airfare is a significant undertaking that I suspect a lot of traveling individuals would be interested in.  Of course you know the price of the flight when you book it, but wouldn't it be cool and highly beneficial to know ahead of time what the cost of the flight will be at a specific date in the future?  If you did know that you may be inclined to continue procrastinating or in fact pull the trigger asap as you know you have found yourself a deal.\n",
    "\n",
    "This project sets out to predict airfare pricing so that individuals are well equipped when searching for airfare and they will be empowered to make a decision quicker based on a comparison of a price quote they find online vs. what our models predict will be the airfare cost.\n",
    "\n",
    "###### **METHODS / MODELS**\n",
    "- Linear Time Series Modeling\n",
    "- Seasonal / ARIMA Modeling\n",
    "\n",
    "###### **EVALUATION**\n",
    "- Predicting Future Airline Prices by Market / Month\n",
    "- Evaluate Models using R2 and RMSE scores"
   ]
  },
  {
   "cell_type": "markdown",
   "metadata": {},
   "source": [
    "# **02** Data Collection and Cleaning"
   ]
  },
  {
   "cell_type": "markdown",
   "metadata": {},
   "source": [
    "### Data Collection\n",
    "###### **Sources**\n",
    "- [**Historical Jet Fuel Prices**](https://www.eia.gov/opendata/qb.php?sdid=PET.EER_EPJK_PF4_RGC_DPG.M) \n",
    "    - Data showcases the price of Jet Fuel in US Dollars.\n",
    "    - Data separated by month.\n",
    "    - Data collected ranges from April 1990 to August 2020.\n",
    "- [**Top 1,000 Contiguous State City-Pair Markets**](https://data.transportation.gov/Aviation/Consumer-Airfare-Report-Table-1-Top-1-000-Contiguo/4f3n-jbg2)\n",
    "    - Data showcases the average airfare per route separated by origin and destination city for the 48 USA landlocked states.\n",
    "    - Data separated by quarter.\n",
    "    - Data collected ranges from Q1 1996 to Q3 2019.\n",
    "- [**US Domestic Flights**](https://academictorrents.com/details/a2ccf94bbb4af222bf8e69dad60a68a29f310d9a)\n",
    "    - Data showcases the airline flight data including route by city, route by airport, passengers, number of flights, total seats available, distance, and population.\n",
    "    - Data separated by month.\n",
    "    - Data collected ranges from January 1990 to December 2009."
   ]
  },
  {
   "cell_type": "markdown",
   "metadata": {},
   "source": [
    "### Data Cleaning / Merging\n",
    "- Clean \n",
    "    - Historical Jet Fuel Prices\n",
    "        - Saved as variable 'fuel'\n",
    "        - DatetimeIndex created\n",
    "    - Top 1,000 Contiguous State City-Pair Markets\n",
    "        - Saved as variable 'airfare'\n",
    "        - DatetimeIndex created\n",
    "        - Identify matching routes\n",
    "        - Changed city names to match city names from different dataset\n",
    "    - US Domestic Flights\n",
    "        - Saved as variable 'flights'\n",
    "        - DatetimeIndex created  \n",
    "- Merge\n",
    "    - Combine US Domestic Flights (left) & Top 1,000 Contiguous State City-Pair Markets.\n",
    "    - Left join on route, quarter, and year to preserve shape of US Domestic Flights.\n",
    "        - **Imputation:** airfare route pricing data was gathered on a quarterly basis, therefore the same value was imputed for each month of the corresponding quarter.\n",
    "    - Resulting dataframe contain 381 different routes over 168 months.\n",
    "        - Dataset is by month and ranges from the beginning of 1996 to end of 2009.\n",
    "\n"
   ]
  },
  {
   "cell_type": "markdown",
   "metadata": {},
   "source": [
    "# **03** EDA and Pre-Processing / Feature Engineering"
   ]
  },
  {
   "cell_type": "markdown",
   "metadata": {},
   "source": [
    "### Datasets\n",
    "- We will be working with 3 datasets to begin which include:\n",
    "    - df_combined: This includes all of our data (1996-2009)\n",
    "    - df_train: This includes our df_combined dataset split into a training dataset (1996-2006)\n",
    "    - df_test: This is going to our dataset of unseen data for which we will test how good our model actually is (2007-2009)\n",
    "    \n",
    "### Visualize Data\n",
    "- Let's determine the top route by passenger volume over the life of our data as a baseline model\n",
    "- Visualize Route Data Upon selection of this route we dive into EDA and visualize the route data\n",
    "    - Lineplots\n",
    "    - Decomposition Plots\n",
    "\n",
    "### Pre-Processing / Feature Engineering\n",
    "- Feature Engineering\n",
    "    - General Features\n",
    "- ACF & PACF Plots    \n",
    "    - Trend / Seasonal Features\n",
    "- Pre-Processing\n",
    "    - AdFuller Test on each dataseries in our dataframes\n",
    "    - Engineer features with stationary data"
   ]
  },
  {
   "cell_type": "markdown",
   "metadata": {},
   "source": [
    "# **04** Modeling / Feature Selection\n",
    "Building out a way to evaluate multiple models where we can evaluate them objectively\n",
    "\n",
    "### OLS\n",
    "- Build multiple OLS (Original Least Squares) linear regression models with optimal features on one route (1996-2006)\n",
    "    - Analyze Statsmodel Summary and ensure features fall below a 5% threshold for pvalue\n",
    "    - Iteration: Remove features & retest new model (machine learning)\n",
    "- Apply our best model on all routes (1996-2006)\n",
    "- Apply our best model on unseen data for each route (2007-2009)\n",
    "\n",
    "### ARIMA\n",
    "- Build out an ARIMA model to compare to an OLS model's performance"
   ]
  },
  {
   "cell_type": "markdown",
   "metadata": {},
   "source": [
    "# **05** Evaluation and Conceptual Understanding"
   ]
  },
  {
   "cell_type": "markdown",
   "metadata": {},
   "source": [
    "- Looking into our results inference will be provided as to our findings to determine what drives model's best performance\n",
    "- Here is a visualization of one of the routes:"
   ]
  },
  {
   "cell_type": "markdown",
   "metadata": {},
   "source": [
    "<img src='./visualizations/DallasTXHoustonTX_train_1.png'>"
   ]
  },
  {
   "cell_type": "markdown",
   "metadata": {},
   "source": [
    "- Each model will be plotted and all relevant information will be saved into a dicitonary\n",
    "- Our All Routes Dictionary will include for each route\n",
    "    - Route Dataframe for training / testing\n",
    "    - Test (Unseen) Dataframe for testing our OLS model on unseen data\n",
    "    - Potential Features (will vary by route, as a byproduct of AdFuller stationary requirements for time series modeling)\n",
    "    - Embedded dictionary of model analytics - \n",
    "        - Each route had multiple models starting with model 1 and reducing by one feature for each additional model until our p-value requirement of 0.05 or less was satisfied\n",
    "        - Analytics include R2 & RMSE for training data, testing data, unseen data, and the baseline scores for reference\n",
    "    - Final Model\n",
    "    - Final Features"
   ]
  },
  {
   "cell_type": "markdown",
   "metadata": {},
   "source": [
    "<img src='./visualizations/Atlanta, GA - Austin, TX_unseen_final_21.png'>"
   ]
  },
  {
   "cell_type": "markdown",
   "metadata": {},
   "source": [
    "- For additional detail regarding evaluation and conceptul understanding you will encounter much greater detail within notebook 03 & 04\n",
    "---------------------------------------------------------------------------------------------------------"
   ]
  },
  {
   "cell_type": "markdown",
   "metadata": {},
   "source": [
    "# **06** Conclusion and Recommendations"
   ]
  },
  {
   "cell_type": "markdown",
   "metadata": {},
   "source": [
    "## **WINS**\n",
    "\n",
    "- We succeeded in building 63 separate route specific that predicted R2 scores between 90-100% out of 375 total routes examined.\n",
    "\n",
    "- From this we can be confident to tell an individual that when they are searching for a flight, they should cross reference their findings with our prediction model.  Of course it will be up to them, but they will be empowered to make a decision whether to buy this flight now, or wait until a future date dependent on their own personal budget.\n",
    "\n",
    "- We succeed in improving RMSE scores 21.85% on 299 of our 375 total routes.  From starting with an initial featureset and using machine learning to make feature selection based on specific conditions.\n",
    "\n",
    "- 265 out of 375 of our test R2 scores outperformed the baseline scores\n",
    "\n",
    "## **FUTURE THOUGHTS**\n",
    "\n",
    "- As we knew predicting airling pricing is a very tricky task.  Ensuring we get as much granular information as possible can be a next step to further building out this project and finding patterns to build more effective models.\n",
    "\n",
    "- Given more time I would look to scrape the web for pricing information for flights perhaps down to the daily / Hourly level.  So much goes into airpline pricing and as we all know the time of the purchase really makes a difference.\n",
    "\n",
    "- We'd love to build a web app where individuals can plug their price quote into it that will let them know how much savings they will make by booking the flight now, and, perhaps, show them where we seee the price going over the next 3 months so they create urgency in themselves for making the purchase."
   ]
  }
 ],
 "metadata": {
  "kernelspec": {
   "display_name": "Python 3",
   "language": "python",
   "name": "python3"
  },
  "language_info": {
   "codemirror_mode": {
    "name": "ipython",
    "version": 3
   },
   "file_extension": ".py",
   "mimetype": "text/x-python",
   "name": "python",
   "nbconvert_exporter": "python",
   "pygments_lexer": "ipython3",
   "version": "3.6.10"
  }
 },
 "nbformat": 4,
 "nbformat_minor": 4
}
